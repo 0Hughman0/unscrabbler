{
 "cells": [
  {
   "cell_type": "markdown",
   "metadata": {},
   "source": [
    "# Unscrabbler\n",
    "\n",
    "Use `shift + Enter` to run the cells sequentially.\n",
    "\n",
    "Coords are in form `(row, col)`.\n",
    "Blanks in your hand are represented by `?`, blanks on the board are denoted by `lowercase` all other letters should be\n",
    "`UPPERCASE`\n",
    "\n",
    "To pass, just enter an empty word.\n",
    "\n",
    "Check out the source code for more info on how it works, and what you can tweak!"
   ]
  },
  {
   "cell_type": "code",
   "execution_count": null,
   "metadata": {
    "pycharm": {
     "is_executing": false
    }
   },
   "outputs": [],
   "source": [
    "from unscrabbler import play_game, WWFGame, ScrabbleGame, WordMasterGame, ACROSS, DOWN"
   ]
  },
  {
   "cell_type": "code",
   "execution_count": null,
   "metadata": {},
   "outputs": [],
   "source": [
    "play_game(human_players=1, \n",
    "          cpu_players=1,\n",
    "          game_mode='WWF')"
   ]
  },
  {
   "cell_type": "code",
   "execution_count": null,
   "metadata": {},
   "outputs": [],
   "source": []
  }
 ],
 "metadata": {
  "kernelspec": {
   "display_name": "Python 3",
   "language": "python",
   "name": "python3"
  },
  "language_info": {
   "codemirror_mode": {
    "name": "ipython",
    "version": 3
   },
   "file_extension": ".py",
   "mimetype": "text/x-python",
   "name": "python",
   "nbconvert_exporter": "python",
   "pygments_lexer": "ipython3",
   "version": "3.7.3"
  },
  "pycharm": {
   "stem_cell": {
    "cell_type": "raw",
    "metadata": {
     "collapsed": false
    },
    "source": []
   }
  },
  "widgets": {
   "application/vnd.jupyter.widget-state+json": {
    "state": {},
    "version_major": 2,
    "version_minor": 0
   }
  }
 },
 "nbformat": 4,
 "nbformat_minor": 4
}
